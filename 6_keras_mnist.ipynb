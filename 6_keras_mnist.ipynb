{
 "cells": [
  {
   "cell_type": "markdown",
   "metadata": {},
   "source": [
    "Most of the code comes from a sample from the book:\n",
    "https://livebook.manning.com/book/deep-learning-with-python-second-edition\n"
   ]
  },
  {
   "metadata": {},
   "cell_type": "markdown",
   "source": "# Use Keras to demonstrate Deep Learning with the MNIST dataset\n"
  },
  {
   "cell_type": "code",
   "metadata": {},
   "source": [
    "import keras\n",
    "from keras import layers\n",
    "import matplotlib.pyplot as plt"
   ],
   "outputs": [],
   "execution_count": null
  },
  {
   "cell_type": "code",
   "metadata": {},
   "source": "(train_images, train_labels), (test_images, test_labels) = keras.datasets.mnist.load_data()",
   "outputs": [],
   "execution_count": null
  },
  {
   "metadata": {},
   "cell_type": "markdown",
   "source": [
    "## Explore the dataset\n",
    "If you check the shape, you see that we have a training set of 60000 samples, with each a matrix of 28 by 28 data points (pixels). Every pixel has a value from 0 to 255. The train labels contain the numbers that have been written. Look at the shape of the data and explore the first image as a matrix of numbers. Can you see the number?"
   ]
  },
  {
   "cell_type": "code",
   "metadata": {},
   "source": [
    "print(train_images.shape)\n",
    "print(train_labels.shape)\n",
    "\n",
    "image_index = 523\n",
    "\n",
    "# Print the values in the matrix for the image with the specified index\n",
    "for row in train_images[image_index]:\n",
    "    for number in row:\n",
    "        print(f\"{number:03}\", end=' ')\n",
    "    print()"
   ],
   "outputs": [],
   "execution_count": null
  },
  {
   "cell_type": "markdown",
   "metadata": {},
   "source": "If you did not see it yet from the previous printout, check after some clean-up. All zeroes are replaced by spaces, and all other numbers are replaced by 1. This way, you can see the number that is written."
  },
  {
   "metadata": {},
   "cell_type": "code",
   "source": [
    "# Print all numbers from one row on one line, with 0 as space and others as 1\n",
    "for row in train_images[image_index]:\n",
    "    for number in row:\n",
    "        print(' ' if number == 0 else '1', end=' ')\n",
    "    print()  # To ensure the next print starts on a new line"
   ],
   "outputs": [],
   "execution_count": null
  },
  {
   "cell_type": "code",
   "metadata": {},
   "source": [
    "# Print the label of the image\n",
    "print(f\"Label: {train_labels[image_index]}\")"
   ],
   "outputs": [],
   "execution_count": null
  },
  {
   "metadata": {},
   "cell_type": "markdown",
   "source": [
    "## Prepare the data\n",
    "We need to reshape the data to a 1D array and normalize the data by dividing by 255.0. The labels are already in the correct format."
   ]
  },
  {
   "metadata": {},
   "cell_type": "code",
   "source": [
    "# The reshape creates one array of 784 long instead of a matrix of 28 x 28\n",
    "train_images = train_images.reshape((60000, 28 * 28))\n",
    "train_images = train_images.astype(\"float32\") / 255\n",
    "test_images = test_images.reshape((10000, 28 * 28))\n",
    "test_images = test_images.astype(\"float32\") / 255"
   ],
   "outputs": [],
   "execution_count": null
  },
  {
   "metadata": {},
   "cell_type": "markdown",
   "source": [
    "## Create the model\n",
    "This architecture defines a simple fully connected feedforward neural network (also known as a multilayer perceptron, or MLP) using Keras. It is typically used for tasks like classification where input data is represented in a flat, non-spatial form (e.g., tabular data or flattened images). The model has two Dense layers, which are densely connected (also called fully connected) neural layers. The first Dense layer has 512 units and uses the ReLU activation function. The second (and last) layer is a 10-way softmax layer, which means it will return an array of 10 probability scores (summing to 1). Each score will be the probability that the current digit image belongs to one of the 10 digit classes."
   ]
  },
  {
   "cell_type": "code",
   "metadata": {},
   "source": [
    "model = keras.Sequential([\n",
    "    layers.Dense(512, activation=\"relu\"),\n",
    "    layers.Dense(10, activation=\"softmax\")\n",
    "])\n",
    "\n",
    "model.compile(optimizer=\"rmsprop\",\n",
    "              loss=\"sparse_categorical_crossentropy\",\n",
    "              metrics=[\"accuracy\"])"
   ],
   "outputs": [],
   "execution_count": null
  },
  {
   "cell_type": "code",
   "metadata": {},
   "source": [
    "history = model.fit(train_images, train_labels, epochs=5, batch_size=128)"
   ],
   "outputs": [],
   "execution_count": null
  },
  {
   "metadata": {},
   "cell_type": "markdown",
   "source": [
    "## Evaluate the model\n",
    "The model is trained, and we can evaluate it on the test set. The accuracy on the test set is a good indication of how well the model generalizes to new, unseen data. Before we do that we check one image to explain the predictions."
   ]
  },
  {
   "cell_type": "code",
   "metadata": {},
   "source": [
    "# Reconstruct one of the images, we use this one to show the model works\n",
    "# Don't forget to reshape the array of 784 back into a matrix of 28x28\n",
    "test_image_index=17\n",
    "\n",
    "digit = test_images[test_image_index]\n",
    "fig = plt.figure\n",
    "plt.imshow(digit.reshape((28,28)), cmap='gray')\n",
    "plt.show()\n",
    "\n",
    "predictions = model.predict(test_images[test_image_index:test_image_index+1])\n",
    "print(\"Softmax predictions for the digit above\")\n",
    "for idx, pred in enumerate(predictions[0]):\n",
    "    print('{} - {:.5f}'.format(idx,pred))\n",
    "print(f'The most likely digit based on the max value is {predictions[0].argmax()}')\n",
    "print(f'The label tells us it is a {test_labels[test_image_index]}')"
   ],
   "outputs": [],
   "execution_count": null
  },
  {
   "cell_type": "code",
   "metadata": {
    "collapsed": true,
    "jupyter": {
     "outputs_hidden": true
    }
   },
   "source": [
    "# Evaluate the model on the test set\n",
    "test_loss, test_acc = model.evaluate(test_images, test_labels)"
   ],
   "outputs": [],
   "execution_count": null
  },
  {
   "cell_type": "code",
   "metadata": {},
   "source": [
    "print(f\"test accuracy: {test_acc}, train accuracy: {history.history['accuracy'][4]}\")"
   ],
   "outputs": [],
   "execution_count": null
  },
  {
   "cell_type": "code",
   "metadata": {},
   "source": [],
   "outputs": [],
   "execution_count": null
  }
 ],
 "metadata": {
  "instance_type": "ml.t3.medium",
  "kernelspec": {
   "display_name": "Python 3 (ipykernel)",
   "language": "python",
   "name": "python3"
  },
  "language_info": {
   "codemirror_mode": {
    "name": "ipython",
    "version": 3
   },
   "file_extension": ".py",
   "mimetype": "text/x-python",
   "name": "python",
   "nbconvert_exporter": "python",
   "pygments_lexer": "ipython3",
   "version": "3.7.10"
  }
 },
 "nbformat": 4,
 "nbformat_minor": 4
}
