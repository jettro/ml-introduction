{
 "cells": [
  {
   "cell_type": "code",
   "execution_count": null,
   "metadata": {},
   "outputs": [],
   "source": [
    "import numpy as np\n",
    "import pandas as pd"
   ]
  },
  {
   "cell_type": "code",
   "execution_count": null,
   "metadata": {},
   "outputs": [],
   "source": [
    "emails = pd.read_csv('5_emails.txt')"
   ]
  },
  {
   "cell_type": "code",
   "execution_count": null,
   "metadata": {},
   "outputs": [],
   "source": [
    "emails.head()"
   ]
  },
  {
   "cell_type": "code",
   "execution_count": null,
   "metadata": {},
   "outputs": [],
   "source": [
    "def process_email(text):\n",
    "    text = text.lower()\n",
    "    return list(set(text.split()))"
   ]
  },
  {
   "cell_type": "markdown",
   "metadata": {},
   "source": [
    "Interesting mechanism, the apply function. Here we apply a function to the specified data. If it is an array or column we apply it to every element."
   ]
  },
  {
   "cell_type": "code",
   "execution_count": null,
   "metadata": {},
   "outputs": [],
   "source": [
    "emails['words'] = emails['text'].apply(process_email)"
   ]
  },
  {
   "cell_type": "code",
   "execution_count": null,
   "metadata": {},
   "outputs": [],
   "source": [
    "emails.head()"
   ]
  },
  {
   "cell_type": "markdown",
   "metadata": {},
   "source": [
    "Find the prior, being the probability of being spam in this dataset. Which is the total of spam mails devided by the total mails"
   ]
  },
  {
   "cell_type": "code",
   "execution_count": null,
   "metadata": {},
   "outputs": [],
   "source": [
    "prior = sum(emails['spam'])/len(emails)\n",
    "prior"
   ]
  },
  {
   "cell_type": "markdown",
   "metadata": {},
   "source": [
    "Next we create an index of all words in the emails, and we count the times in spam as well as ham emails"
   ]
  },
  {
   "cell_type": "code",
   "execution_count": null,
   "metadata": {},
   "outputs": [],
   "source": [
    "model = {}\n",
    " \n",
    "for index, email in emails.iterrows():\n",
    "    for word in email['words']:\n",
    "        if word not in model:\n",
    "            model[word] = {'spam': 1, 'ham': 1}\n",
    "        if word in model:\n",
    "            if email['spam']:\n",
    "                model[word]['spam'] += 1\n",
    "            else:\n",
    "                model[word]['ham'] += 1"
   ]
  },
  {
   "cell_type": "code",
   "execution_count": null,
   "metadata": {},
   "outputs": [],
   "source": [
    "model[\"java\"]"
   ]
  },
  {
   "cell_type": "code",
   "execution_count": null,
   "metadata": {},
   "outputs": [],
   "source": [
    "def predict_naive_bayes(email):\n",
    "    total = len(emails)\n",
    "    num_spam = sum(emails['spam'])\n",
    "    num_ham = total - num_spam\n",
    "    email = email.lower()\n",
    "    words = set(email.split())\n",
    "    spams = [1.0]\n",
    "    hams = [1.0]\n",
    "    for word in words:\n",
    "        if word in model:\n",
    "            spams.append(model[word]['spam']/num_spam*total)\n",
    "            hams.append(model[word]['ham']/num_ham*total)\n",
    "    prod_spams = np.long(np.prod(spams)*num_spam)\n",
    "    prod_hams = np.long(np.prod(hams)*num_ham)\n",
    "    return prod_spams/(prod_spams + prod_hams)"
   ]
  },
  {
   "cell_type": "markdown",
   "metadata": {},
   "source": [
    "Notice the scores in the next example sentences"
   ]
  },
  {
   "cell_type": "code",
   "execution_count": null,
   "metadata": {},
   "outputs": [],
   "source": [
    "predict_naive_bayes('Hi mom how are you')"
   ]
  },
  {
   "cell_type": "code",
   "execution_count": null,
   "metadata": {},
   "outputs": [],
   "source": [
    "predict_naive_bayes('I give a cheap java program for free')"
   ]
  },
  {
   "cell_type": "code",
   "execution_count": null,
   "metadata": {},
   "outputs": [],
   "source": [
    "predict_naive_bayes('I create a unique java program if you are willing to pay')"
   ]
  },
  {
   "cell_type": "code",
   "execution_count": null,
   "metadata": {},
   "outputs": [],
   "source": [
    "predict_naive_bayes('Hiring the cheapest java programmer is like buying a lottery ticket')"
   ]
  },
  {
   "cell_type": "code",
   "execution_count": null,
   "metadata": {},
   "outputs": [],
   "source": []
  }
 ],
 "metadata": {
  "instance_type": "ml.t3.medium",
  "kernelspec": {
   "display_name": "Python 3 (Data Science)",
   "language": "python",
   "name": "python3__SAGEMAKER_INTERNAL__arn:aws:sagemaker:eu-west-1:470317259841:image/datascience-1.0"
  },
  "language_info": {
   "codemirror_mode": {
    "name": "ipython",
    "version": 3
   },
   "file_extension": ".py",
   "mimetype": "text/x-python",
   "name": "python",
   "nbconvert_exporter": "python",
   "pygments_lexer": "ipython3",
   "version": "3.7.10"
  }
 },
 "nbformat": 4,
 "nbformat_minor": 4
}
