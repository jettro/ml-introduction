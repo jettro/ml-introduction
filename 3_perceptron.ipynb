{
 "cells": [
  {
   "cell_type": "markdown",
   "metadata": {},
   "source": [
    "# Welcome to the Perceptron demo page\n",
    "Most of the inspiration comes from the book Grokking Machine Learning from Manning. A really good book to get into Machine Learning"
   ]
  },
  {
   "cell_type": "code",
   "execution_count": 1,
   "metadata": {},
   "outputs": [],
   "source": [
    "import pandas as pd\n",
    "import matplotlib.pyplot as plt\n",
    "import matplotlib.ticker as ticker\n",
    "import numpy as np\n",
    "import random\n",
    "import turicreate as tc"
   ]
  },
  {
   "cell_type": "code",
   "execution_count": 8,
   "metadata": {},
   "outputs": [],
   "source": [
    "data = pd.DataFrame({\n",
    "    \"sentence\": [\"tjilp tjilp tjilp\",\"mwah mwah\", \"tjilp mwah tjilp\", \"tjilp mwah mwah\", \"mwah mwah mwah tjilp\", \"tjilp mwah tjilp mwah tjilp\"],\n",
    "    })\n",
    "\n",
    "def count_tjilp(row):\n",
    "    word_list = row[\"sentence\"].split()\n",
    "    return word_list.count(\"tjilp\")\n",
    "\n",
    "def count_mwah(row):\n",
    "    word_list = row[\"sentence\"].split()\n",
    "    return word_list.count(\"mwah\")\n",
    "\n",
    "def determine_sentiment_1(row):\n",
    "    return \"Happy\" if row[\"tjilp\"] > row[\"mwah\"] else \"Sad\"\n",
    "\n",
    "data[\"tjilp\"] = data.apply(lambda row: count_tjilp(row), axis=1)\n",
    "data[\"mwah\"] = data.apply(lambda row: count_mwah(row), axis=1)\n",
    "data[\"mood\"] = data.apply(lambda row: determine_sentiment_1(row), axis=1)\n",
    "\n"
   ]
  },
  {
   "cell_type": "code",
   "execution_count": 5,
   "metadata": {},
   "outputs": [
    {
     "data": {
      "text/html": [
       "<div>\n",
       "<style scoped>\n",
       "    .dataframe tbody tr th:only-of-type {\n",
       "        vertical-align: middle;\n",
       "    }\n",
       "\n",
       "    .dataframe tbody tr th {\n",
       "        vertical-align: top;\n",
       "    }\n",
       "\n",
       "    .dataframe thead th {\n",
       "        text-align: right;\n",
       "    }\n",
       "</style>\n",
       "<table border=\"1\" class=\"dataframe\">\n",
       "  <thead>\n",
       "    <tr style=\"text-align: right;\">\n",
       "      <th></th>\n",
       "      <th>sentence</th>\n",
       "      <th>tjilp</th>\n",
       "      <th>mwah</th>\n",
       "      <th>mood</th>\n",
       "    </tr>\n",
       "  </thead>\n",
       "  <tbody>\n",
       "    <tr>\n",
       "      <th>0</th>\n",
       "      <td>tjilp tjilp tjilp</td>\n",
       "      <td>3</td>\n",
       "      <td>0</td>\n",
       "      <td>Happy</td>\n",
       "    </tr>\n",
       "    <tr>\n",
       "      <th>1</th>\n",
       "      <td>mwah mwah</td>\n",
       "      <td>0</td>\n",
       "      <td>2</td>\n",
       "      <td>Sad</td>\n",
       "    </tr>\n",
       "    <tr>\n",
       "      <th>2</th>\n",
       "      <td>tjilp mwah tjilp</td>\n",
       "      <td>2</td>\n",
       "      <td>1</td>\n",
       "      <td>Happy</td>\n",
       "    </tr>\n",
       "    <tr>\n",
       "      <th>3</th>\n",
       "      <td>tjilp mwah mwah</td>\n",
       "      <td>1</td>\n",
       "      <td>2</td>\n",
       "      <td>Sad</td>\n",
       "    </tr>\n",
       "    <tr>\n",
       "      <th>4</th>\n",
       "      <td>mwah mwah mwah tjilp</td>\n",
       "      <td>1</td>\n",
       "      <td>3</td>\n",
       "      <td>Sad</td>\n",
       "    </tr>\n",
       "    <tr>\n",
       "      <th>5</th>\n",
       "      <td>tjilp mwah tjilp mwah tjilp</td>\n",
       "      <td>3</td>\n",
       "      <td>2</td>\n",
       "      <td>Happy</td>\n",
       "    </tr>\n",
       "  </tbody>\n",
       "</table>\n",
       "</div>"
      ],
      "text/plain": [
       "                      sentence  tjilp  mwah   mood\n",
       "0            tjilp tjilp tjilp      3     0  Happy\n",
       "1                    mwah mwah      0     2    Sad\n",
       "2             tjilp mwah tjilp      2     1  Happy\n",
       "3              tjilp mwah mwah      1     2    Sad\n",
       "4         mwah mwah mwah tjilp      1     3    Sad\n",
       "5  tjilp mwah tjilp mwah tjilp      3     2  Happy"
      ]
     },
     "execution_count": 5,
     "metadata": {},
     "output_type": "execute_result"
    }
   ],
   "source": [
    "data"
   ]
  },
  {
   "cell_type": "code",
   "execution_count": 6,
   "metadata": {},
   "outputs": [],
   "source": [
    "def plot_sentiment(happy_data, sad_data, line = []):\n",
    "    tick_spacing = 1\n",
    "    fig, ax = plt.subplots(1,1)\n",
    "\n",
    "    ax.scatter(happy_data[\"tjilp\"], happy_data[\"mwah\"], c='g',marker='o', label='Happy')\n",
    "    ax.scatter(sad_data[\"tjilp\"], sad_data[\"mwah\"], c='r',marker='x', label='Sad')\n",
    "    if line and len(line) > 1:\n",
    "        ax.plot(line[0],line[1])\n",
    "    ax.xaxis.set_major_locator(ticker.MultipleLocator(tick_spacing))\n",
    "    plt.title('Happy or Sad sentence')\n",
    "    plt.ylabel('Mwah')\n",
    "    plt.xlabel('Tjilp')\n",
    "    plt.rcParams[\"figure.figsize\"] = (8,6)\n",
    "    plt.legend()\n",
    "    plt.grid()\n",
    "    plt.show()"
   ]
  },
  {
   "cell_type": "code",
   "execution_count": 7,
   "metadata": {},
   "outputs": [
    {
     "data": {
      "image/png": "[encoded data removed]",
      "text/plain": [
       "<Figure size 640x480 with 1 Axes>"
      ]
     },
     "metadata": {},
     "output_type": "display_data"
    }
   ],
   "source": [
    "happy_sentence = data[data[\"mood\"] == \"Happy\"]\n",
    "sad_sentence = data[data[\"mood\"] == \"Sad\"]\n",
    "plot_sentiment(happy_sentence, sad_sentence)"
   ]
  },
  {
   "cell_type": "code",
   "execution_count": 9,
   "metadata": {},
   "outputs": [],
   "source": [
    "data = pd.DataFrame({\n",
    "    \"sentence\": [\"tjilp\",\"mwah mwah\", \"tjilp mwah tjilp\", \"tjilp mwah mwah\", \"mwah mwah mwah tjilp\", \"tjilp mwah tjilp mwah\", \"mwah mwah tjilp tjilp tjilp\", \"mwah mwah mwah tjilp tjilp\"]\n",
    "    })\n",
    "\n",
    "def determine_sentiment_2(row):\n",
    "    return \"Happy\" if row[\"tjilp\"] + row[\"mwah\"] >= 4 else \"Sad\"\n",
    "\n",
    "\n",
    "\n",
    "data[\"tjilp\"] = data.apply(lambda row: count_tjilp(row), axis=1)\n",
    "data[\"mwah\"] = data.apply(lambda row: count_mwah(row), axis=1)\n",
    "data[\"mood\"] = data.apply(lambda row: determine_sentiment_2(row), axis=1)\n",
    "\n",
    "\n",
    "#     \"tjilp\":[1,0,2,1,1,2,3,2],\n",
    "#     \"mwah\": [0,2,1,2,3,2,2,3],\n",
    "#     \"mood\": [\"Sad\", \"Sad\", \"Sad\", \"Sad\", \"Happy\", \"Happy\", \"Happy\", \"Happy\"]\n",
    "\n"
   ]
  },
  {
   "cell_type": "code",
   "execution_count": 11,
   "metadata": {
    "collapsed": true,
    "jupyter": {
     "outputs_hidden": true
    }
   },
   "outputs": [
    {
     "data": {
      "text/html": [
       "<div>\n",
       "<style scoped>\n",
       "    .dataframe tbody tr th:only-of-type {\n",
       "        vertical-align: middle;\n",
       "    }\n",
       "\n",
       "    .dataframe tbody tr th {\n",
       "        vertical-align: top;\n",
       "    }\n",
       "\n",
       "    .dataframe thead th {\n",
       "        text-align: right;\n",
       "    }\n",
       "</style>\n",
       "<table border=\"1\" class=\"dataframe\">\n",
       "  <thead>\n",
       "    <tr style=\"text-align: right;\">\n",
       "      <th></th>\n",
       "      <th>sentence</th>\n",
       "      <th>tjilp</th>\n",
       "      <th>mwah</th>\n",
       "      <th>mood</th>\n",
       "    </tr>\n",
       "  </thead>\n",
       "  <tbody>\n",
       "    <tr>\n",
       "      <th>0</th>\n",
       "      <td>tjilp</td>\n",
       "      <td>1</td>\n",
       "      <td>0</td>\n",
       "      <td>Sad</td>\n",
       "    </tr>\n",
       "    <tr>\n",
       "      <th>1</th>\n",
       "      <td>mwah mwah</td>\n",
       "      <td>0</td>\n",
       "      <td>2</td>\n",
       "      <td>Sad</td>\n",
       "    </tr>\n",
       "    <tr>\n",
       "      <th>2</th>\n",
       "      <td>tjilp mwah tjilp</td>\n",
       "      <td>2</td>\n",
       "      <td>1</td>\n",
       "      <td>Sad</td>\n",
       "    </tr>\n",
       "    <tr>\n",
       "      <th>3</th>\n",
       "      <td>tjilp mwah mwah</td>\n",
       "      <td>1</td>\n",
       "      <td>2</td>\n",
       "      <td>Sad</td>\n",
       "    </tr>\n",
       "    <tr>\n",
       "      <th>4</th>\n",
       "      <td>mwah mwah mwah tjilp</td>\n",
       "      <td>1</td>\n",
       "      <td>3</td>\n",
       "      <td>Happy</td>\n",
       "    </tr>\n",
       "    <tr>\n",
       "      <th>5</th>\n",
       "      <td>tjilp mwah tjilp mwah</td>\n",
       "      <td>2</td>\n",
       "      <td>2</td>\n",
       "      <td>Happy</td>\n",
       "    </tr>\n",
       "    <tr>\n",
       "      <th>6</th>\n",
       "      <td>mwah mwah tjilp tjilp tjilp</td>\n",
       "      <td>3</td>\n",
       "      <td>2</td>\n",
       "      <td>Happy</td>\n",
       "    </tr>\n",
       "    <tr>\n",
       "      <th>7</th>\n",
       "      <td>mwah mwah mwah tjilp tjilp</td>\n",
       "      <td>2</td>\n",
       "      <td>3</td>\n",
       "      <td>Happy</td>\n",
       "    </tr>\n",
       "  </tbody>\n",
       "</table>\n",
       "</div>"
      ],
      "text/plain": [
       "                      sentence  tjilp  mwah   mood\n",
       "0                        tjilp      1     0    Sad\n",
       "1                    mwah mwah      0     2    Sad\n",
       "2             tjilp mwah tjilp      2     1    Sad\n",
       "3              tjilp mwah mwah      1     2    Sad\n",
       "4         mwah mwah mwah tjilp      1     3  Happy\n",
       "5        tjilp mwah tjilp mwah      2     2  Happy\n",
       "6  mwah mwah tjilp tjilp tjilp      3     2  Happy\n",
       "7   mwah mwah mwah tjilp tjilp      2     3  Happy"
      ]
     },
     "execution_count": 11,
     "metadata": {},
     "output_type": "execute_result"
    }
   ],
   "source": [
    "data"
   ]
  },
  {
   "cell_type": "code",
   "execution_count": 10,
   "metadata": {},
   "outputs": [
    {
     "data": {
      "image/png": "[encoded data removed]",
      "text/plain": [
       "<Figure size 800x600 with 1 Axes>"
      ]
     },
     "metadata": {},
     "output_type": "display_data"
    }
   ],
   "source": [
    "happy_sentence = data[data[\"mood\"] == \"Happy\"]\n",
    "sad_sentence = data[data[\"mood\"] == \"Sad\"]\n",
    "plot_sentiment(happy_sentence, sad_sentence)"
   ]
  },
  {
   "cell_type": "code",
   "execution_count": 14,
   "metadata": {},
   "outputs": [],
   "source": [
    "# This time there is no clear rule why a sentence is sad or happy, we need to learn the best matching rule\n",
    "data = pd.DataFrame({\n",
    "    \"tjilp\":[1,0,2,1,1,2,3,2,4,2,3,4,4,3],\n",
    "    \"mwah\": [0,2,1,2,3,2,2,3,4,4,1,2,0,3],\n",
    "    \"mood\": [\"Sad\", \"Sad\", \"Sad\", \"Sad\", \"Happy\", \"Happy\", \"Sad\", \"Happy\", \"Happy\", \"Happy\", \"Sad\", \"Happy\", \"Happy\",\"Sad\"]\n",
    "    })"
   ]
  },
  {
   "cell_type": "code",
   "execution_count": 15,
   "metadata": {},
   "outputs": [
    {
     "data": {
      "image/png": "[encoded data removed]",
      "text/plain": [
       "<Figure size 800x600 with 1 Axes>"
      ]
     },
     "metadata": {},
     "output_type": "display_data"
    }
   ],
   "source": [
    "happy_sentence = data[data[\"mood\"] == \"Happy\"]\n",
    "sad_sentence = data[data[\"mood\"] == \"Sad\"]\n",
    "plot_sentiment(happy_sentence, sad_sentence)"
   ]
  },
  {
   "cell_type": "code",
   "execution_count": 16,
   "metadata": {},
   "outputs": [],
   "source": [
    "data[\"label\"]=data[\"mood\"].apply(lambda x: 1 if x == \"Happy\" else 0)"
   ]
  },
  {
   "cell_type": "code",
   "execution_count": 17,
   "metadata": {},
   "outputs": [
    {
     "data": {
      "text/html": [
       "<div>\n",
       "<style scoped>\n",
       "    .dataframe tbody tr th:only-of-type {\n",
       "        vertical-align: middle;\n",
       "    }\n",
       "\n",
       "    .dataframe tbody tr th {\n",
       "        vertical-align: top;\n",
       "    }\n",
       "\n",
       "    .dataframe thead th {\n",
       "        text-align: right;\n",
       "    }\n",
       "</style>\n",
       "<table border=\"1\" class=\"dataframe\">\n",
       "  <thead>\n",
       "    <tr style=\"text-align: right;\">\n",
       "      <th></th>\n",
       "      <th>tjilp</th>\n",
       "      <th>mwah</th>\n",
       "      <th>mood</th>\n",
       "      <th>label</th>\n",
       "    </tr>\n",
       "  </thead>\n",
       "  <tbody>\n",
       "    <tr>\n",
       "      <th>0</th>\n",
       "      <td>1</td>\n",
       "      <td>0</td>\n",
       "      <td>Sad</td>\n",
       "      <td>0</td>\n",
       "    </tr>\n",
       "    <tr>\n",
       "      <th>1</th>\n",
       "      <td>0</td>\n",
       "      <td>2</td>\n",
       "      <td>Sad</td>\n",
       "      <td>0</td>\n",
       "    </tr>\n",
       "    <tr>\n",
       "      <th>2</th>\n",
       "      <td>2</td>\n",
       "      <td>1</td>\n",
       "      <td>Sad</td>\n",
       "      <td>0</td>\n",
       "    </tr>\n",
       "    <tr>\n",
       "      <th>3</th>\n",
       "      <td>1</td>\n",
       "      <td>2</td>\n",
       "      <td>Sad</td>\n",
       "      <td>0</td>\n",
       "    </tr>\n",
       "    <tr>\n",
       "      <th>4</th>\n",
       "      <td>1</td>\n",
       "      <td>3</td>\n",
       "      <td>Happy</td>\n",
       "      <td>1</td>\n",
       "    </tr>\n",
       "    <tr>\n",
       "      <th>5</th>\n",
       "      <td>2</td>\n",
       "      <td>2</td>\n",
       "      <td>Happy</td>\n",
       "      <td>1</td>\n",
       "    </tr>\n",
       "    <tr>\n",
       "      <th>6</th>\n",
       "      <td>3</td>\n",
       "      <td>2</td>\n",
       "      <td>Sad</td>\n",
       "      <td>0</td>\n",
       "    </tr>\n",
       "    <tr>\n",
       "      <th>7</th>\n",
       "      <td>2</td>\n",
       "      <td>3</td>\n",
       "      <td>Happy</td>\n",
       "      <td>1</td>\n",
       "    </tr>\n",
       "    <tr>\n",
       "      <th>8</th>\n",
       "      <td>4</td>\n",
       "      <td>4</td>\n",
       "      <td>Happy</td>\n",
       "      <td>1</td>\n",
       "    </tr>\n",
       "    <tr>\n",
       "      <th>9</th>\n",
       "      <td>2</td>\n",
       "      <td>4</td>\n",
       "      <td>Happy</td>\n",
       "      <td>1</td>\n",
       "    </tr>\n",
       "    <tr>\n",
       "      <th>10</th>\n",
       "      <td>3</td>\n",
       "      <td>1</td>\n",
       "      <td>Sad</td>\n",
       "      <td>0</td>\n",
       "    </tr>\n",
       "    <tr>\n",
       "      <th>11</th>\n",
       "      <td>4</td>\n",
       "      <td>2</td>\n",
       "      <td>Happy</td>\n",
       "      <td>1</td>\n",
       "    </tr>\n",
       "    <tr>\n",
       "      <th>12</th>\n",
       "      <td>4</td>\n",
       "      <td>0</td>\n",
       "      <td>Happy</td>\n",
       "      <td>1</td>\n",
       "    </tr>\n",
       "    <tr>\n",
       "      <th>13</th>\n",
       "      <td>3</td>\n",
       "      <td>3</td>\n",
       "      <td>Sad</td>\n",
       "      <td>0</td>\n",
       "    </tr>\n",
       "  </tbody>\n",
       "</table>\n",
       "</div>"
      ],
      "text/plain": [
       "    tjilp  mwah   mood  label\n",
       "0       1     0    Sad      0\n",
       "1       0     2    Sad      0\n",
       "2       2     1    Sad      0\n",
       "3       1     2    Sad      0\n",
       "4       1     3  Happy      1\n",
       "5       2     2  Happy      1\n",
       "6       3     2    Sad      0\n",
       "7       2     3  Happy      1\n",
       "8       4     4  Happy      1\n",
       "9       2     4  Happy      1\n",
       "10      3     1    Sad      0\n",
       "11      4     2  Happy      1\n",
       "12      4     0  Happy      1\n",
       "13      3     3    Sad      0"
      ]
     },
     "execution_count": 17,
     "metadata": {},
     "output_type": "execute_result"
    }
   ],
   "source": [
    "data"
   ]
  },
  {
   "cell_type": "code",
   "execution_count": 18,
   "metadata": {},
   "outputs": [],
   "source": [
    "features = data[[\"tjilp\",\"mwah\"]].to_numpy()\n",
    "labels = data[\"label\"].to_numpy()"
   ]
  },
  {
   "cell_type": "code",
   "execution_count": 19,
   "metadata": {},
   "outputs": [],
   "source": [
    "def score(weights, bias, features):\n",
    "    \"\"\"Calculates the score of the provided features by multiplying them to the weights and adding the bias.\"\"\"\n",
    "    return features.dot(weights) + bias\n",
    "\n",
    "def step(x):\n",
    "    \"\"\"Implements the step function, resulting in 1 for positive numbers and 0 otherwise, remember that 1 is Happy and 0 is Sad\"\"\"\n",
    "    if x >= 0:\n",
    "        return 1\n",
    "    else:\n",
    "        return 0\n",
    "    \n",
    "def prediction(weights, bias, features):\n",
    "    \"\"\"Predict if the provided sentence in features is Happy or Sad\"\"\"\n",
    "    return step(score(weights, bias, features))\n",
    "\n",
    "def error(weights, bias, features, label):\n",
    "    \"\"\"For a correct prediction, the error is zero, otherwise the zero is absolute value of the score\"\"\"\n",
    "    pred = prediction(weights, bias, features)\n",
    "    if (pred == label):\n",
    "        return 0\n",
    "    else:\n",
    "        return np.abs(score(weights, bias, features))\n",
    "    \n",
    "def mean_perceptron_error(weights, bias, features, labels):\n",
    "    \"\"\"Calculates the average error over all the samples in the data set\"\"\"\n",
    "    total_error = 0\n",
    "    for i in range(len(features)):\n",
    "        total_error += error(weights, bias, features[i], labels[i]) # do you understand why we take i for some parameters?\n",
    "    return total_error / len(features)\n",
    "\n",
    "def perceptron_trick(weights, bias, features, label, learning_rate = 0.01):\n",
    "    \"\"\"Uses the error to decide to make a big step or keep the parameter the same if the prediction was right\"\"\"\n",
    "    pred = prediction(weights, bias, features)\n",
    "    for i in range(len(weights)):\n",
    "        weights[i] += (label - pred)*features[i]*learning_rate\n",
    "    bias += (label - pred) * learning_rate\n",
    "    return weights, bias\n",
    "\n",
    "def perceptron_algorithm(features, labels, learning_rate = 0.01, epochs = 200):\n",
    "    \"\"\"Coordinates the learning\"\"\"\n",
    "    weights = [1.0 for i in range(len(features[0]))]\n",
    "    bias = 0.0\n",
    "    errors = []\n",
    "    for epoch in range(epochs):\n",
    "        error = mean_perceptron_error(weights, bias, features, labels)\n",
    "        errors.append(error)\n",
    "        i = random.randint(0, len(features) - 1) # Pick a random point in our dataset\n",
    "        weights, bias = perceptron_trick(weights, bias, features[i], labels[i])\n",
    "    return weights, bias, errors"
   ]
  },
  {
   "cell_type": "code",
   "execution_count": 20,
   "metadata": {},
   "outputs": [],
   "source": [
    "found_weights, found_bias, found_errors = perceptron_algorithm(features, labels)"
   ]
  },
  {
   "cell_type": "markdown",
   "metadata": {},
   "source": [
    "We need the line formula, which is w1 * x1 + w2 * x2 + bias = 0, dus x2 = (-w1 * x1-bias)/w2"
   ]
  },
  {
   "cell_type": "code",
   "execution_count": 21,
   "metadata": {},
   "outputs": [],
   "source": [
    "def calculate_x2 (x1, weights, bias):\n",
    "    return (-1*weights[0] * x1 - bias)/weights[1]\n",
    "\n",
    "x_2_4 = calculate_x2(4,found_weights, found_bias)\n",
    "x_2_0 = calculate_x2(0, found_weights, found_bias)"
   ]
  },
  {
   "cell_type": "code",
   "execution_count": 22,
   "metadata": {},
   "outputs": [
    {
     "data": {
      "image/png": "[encoded data removed]",
      "text/plain": [
       "<Figure size 800x600 with 1 Axes>"
      ]
     },
     "metadata": {},
     "output_type": "display_data"
    }
   ],
   "source": [
    "plot_sentiment(happy_sentence, sad_sentence, [[0, 4],[x_2_0, x_2_4]])"
   ]
  },
  {
   "cell_type": "code",
   "execution_count": 30,
   "metadata": {},
   "outputs": [
    {
     "data": {
      "image/png": "[encoded data removed]",
      "text/plain": [
       "<Figure size 800x600 with 1 Axes>"
      ]
     },
     "metadata": {},
     "output_type": "display_data"
    }
   ],
   "source": [
    "def plot_errors(errors):\n",
    "    fig, ax = plt.subplots(1,1)\n",
    "    ax.plot(errors, lw=1, label='Error')\n",
    "    plt.title('Error plotted against the Epoch')\n",
    "    plt.ylabel('Error')\n",
    "    plt.xlabel('Epoch')\n",
    "    plt.show()\n",
    "\n",
    "plot_errors(found_errors)"
   ]
  },
  {
   "cell_type": "code",
   "execution_count": 23,
   "metadata": {},
   "outputs": [
    {
     "data": {
      "text/plain": [
       "1"
      ]
     },
     "execution_count": 23,
     "metadata": {},
     "output_type": "execute_result"
    }
   ],
   "source": [
    "prediction(found_weights, found_bias, np.array([1,3]))"
   ]
  },
  {
   "cell_type": "code",
   "execution_count": 24,
   "metadata": {},
   "outputs": [],
   "source": [
    "datadict = {'tjilp': features[:,0], 'mwah':features[:,1], 'prediction': labels}\n",
    "datatc = tc.SFrame(datadict)"
   ]
  },
  {
   "cell_type": "code",
   "execution_count": 25,
   "metadata": {},
   "outputs": [
    {
     "data": {
      "text/html": [
       "<pre>Logistic regression:</pre>"
      ],
      "text/plain": [
       "Logistic regression:"
      ]
     },
     "metadata": {},
     "output_type": "display_data"
    },
    {
     "data": {
      "text/html": [
       "<pre>--------------------------------------------------------</pre>"
      ],
      "text/plain": [
       "--------------------------------------------------------"
      ]
     },
     "metadata": {},
     "output_type": "display_data"
    },
    {
     "data": {
      "text/html": [
       "<pre>Number of examples          : 14</pre>"
      ],
      "text/plain": [
       "Number of examples          : 14"
      ]
     },
     "metadata": {},
     "output_type": "display_data"
    },
    {
     "data": {
      "text/html": [
       "<pre>Number of classes           : 2</pre>"
      ],
      "text/plain": [
       "Number of classes           : 2"
      ]
     },
     "metadata": {},
     "output_type": "display_data"
    },
    {
     "data": {
      "text/html": [
       "<pre>Number of feature columns   : 2</pre>"
      ],
      "text/plain": [
       "Number of feature columns   : 2"
      ]
     },
     "metadata": {},
     "output_type": "display_data"
    },
    {
     "data": {
      "text/html": [
       "<pre>Number of unpacked features : 2</pre>"
      ],
      "text/plain": [
       "Number of unpacked features : 2"
      ]
     },
     "metadata": {},
     "output_type": "display_data"
    },
    {
     "data": {
      "text/html": [
       "<pre>Number of coefficients      : 3</pre>"
      ],
      "text/plain": [
       "Number of coefficients      : 3"
      ]
     },
     "metadata": {},
     "output_type": "display_data"
    },
    {
     "data": {
      "text/html": [
       "<pre>Starting Newton Method</pre>"
      ],
      "text/plain": [
       "Starting Newton Method"
      ]
     },
     "metadata": {},
     "output_type": "display_data"
    },
    {
     "data": {
      "text/html": [
       "<pre>--------------------------------------------------------</pre>"
      ],
      "text/plain": [
       "--------------------------------------------------------"
      ]
     },
     "metadata": {},
     "output_type": "display_data"
    },
    {
     "data": {
      "text/html": [
       "<pre>+-----------+----------+--------------+-------------------+</pre>"
      ],
      "text/plain": [
       "+-----------+----------+--------------+-------------------+"
      ]
     },
     "metadata": {},
     "output_type": "display_data"
    },
    {
     "data": {
      "text/html": [
       "<pre>| Iteration | Passes   | Elapsed Time | Training Accuracy |</pre>"
      ],
      "text/plain": [
       "| Iteration | Passes   | Elapsed Time | Training Accuracy |"
      ]
     },
     "metadata": {},
     "output_type": "display_data"
    },
    {
     "data": {
      "text/html": [
       "<pre>+-----------+----------+--------------+-------------------+</pre>"
      ],
      "text/plain": [
       "+-----------+----------+--------------+-------------------+"
      ]
     },
     "metadata": {},
     "output_type": "display_data"
    },
    {
     "data": {
      "text/html": [
       "<pre>| 1         | 2        | 1.000506     | 0.642857          |</pre>"
      ],
      "text/plain": [
       "| 1         | 2        | 1.000506     | 0.642857          |"
      ]
     },
     "metadata": {},
     "output_type": "display_data"
    },
    {
     "data": {
      "text/html": [
       "<pre>| 2         | 3        | 1.000947     | 0.642857          |</pre>"
      ],
      "text/plain": [
       "| 2         | 3        | 1.000947     | 0.642857          |"
      ]
     },
     "metadata": {},
     "output_type": "display_data"
    },
    {
     "data": {
      "text/html": [
       "<pre>| 3         | 4        | 1.001227     | 0.642857          |</pre>"
      ],
      "text/plain": [
       "| 3         | 4        | 1.001227     | 0.642857          |"
      ]
     },
     "metadata": {},
     "output_type": "display_data"
    },
    {
     "data": {
      "text/html": [
       "<pre>+-----------+----------+--------------+-------------------+</pre>"
      ],
      "text/plain": [
       "+-----------+----------+--------------+-------------------+"
      ]
     },
     "metadata": {},
     "output_type": "display_data"
    },
    {
     "data": {
      "text/html": [
       "<pre>SUCCESS: Optimal solution found.</pre>"
      ],
      "text/plain": [
       "SUCCESS: Optimal solution found."
      ]
     },
     "metadata": {},
     "output_type": "display_data"
    },
    {
     "data": {
      "text/html": [
       "<pre></pre>"
      ],
      "text/plain": []
     },
     "metadata": {},
     "output_type": "display_data"
    }
   ],
   "source": [
    "perceptron = tc.logistic_classifier.create(datatc, target='prediction')"
   ]
  },
  {
   "cell_type": "code",
   "execution_count": 26,
   "metadata": {},
   "outputs": [
    {
     "data": {
      "text/html": [
       "<div style=\"max-height:1000px;max-width:1500px;overflow:auto;\"><table frame=\"box\" rules=\"cols\">\n",
       "    <tr>\n",
       "        <th style=\"padding-left: 1em; padding-right: 1em; text-align: center\">name</th>\n",
       "        <th style=\"padding-left: 1em; padding-right: 1em; text-align: center\">index</th>\n",
       "        <th style=\"padding-left: 1em; padding-right: 1em; text-align: center\">class</th>\n",
       "        <th style=\"padding-left: 1em; padding-right: 1em; text-align: center\">value</th>\n",
       "        <th style=\"padding-left: 1em; padding-right: 1em; text-align: center\">stderr</th>\n",
       "    </tr>\n",
       "    <tr>\n",
       "        <td style=\"padding-left: 1em; padding-right: 1em; text-align: center; vertical-align: top\">(intercept)</td>\n",
       "        <td style=\"padding-left: 1em; padding-right: 1em; text-align: center; vertical-align: top\">None</td>\n",
       "        <td style=\"padding-left: 1em; padding-right: 1em; text-align: center; vertical-align: top\">1</td>\n",
       "        <td style=\"padding-left: 1em; padding-right: 1em; text-align: center; vertical-align: top\">-3.4393448660855945</td>\n",
       "        <td style=\"padding-left: 1em; padding-right: 1em; text-align: center; vertical-align: top\">2.1617791681914915</td>\n",
       "    </tr>\n",
       "    <tr>\n",
       "        <td style=\"padding-left: 1em; padding-right: 1em; text-align: center; vertical-align: top\">mwah</td>\n",
       "        <td style=\"padding-left: 1em; padding-right: 1em; text-align: center; vertical-align: top\">None</td>\n",
       "        <td style=\"padding-left: 1em; padding-right: 1em; text-align: center; vertical-align: top\">1</td>\n",
       "        <td style=\"padding-left: 1em; padding-right: 1em; text-align: center; vertical-align: top\">0.8583548521396857</td>\n",
       "        <td style=\"padding-left: 1em; padding-right: 1em; text-align: center; vertical-align: top\">0.6016521323138562</td>\n",
       "    </tr>\n",
       "    <tr>\n",
       "        <td style=\"padding-left: 1em; padding-right: 1em; text-align: center; vertical-align: top\">tjilp</td>\n",
       "        <td style=\"padding-left: 1em; padding-right: 1em; text-align: center; vertical-align: top\">None</td>\n",
       "        <td style=\"padding-left: 1em; padding-right: 1em; text-align: center; vertical-align: top\">1</td>\n",
       "        <td style=\"padding-left: 1em; padding-right: 1em; text-align: center; vertical-align: top\">0.7325844438149645</td>\n",
       "        <td style=\"padding-left: 1em; padding-right: 1em; text-align: center; vertical-align: top\">0.5825268669260164</td>\n",
       "    </tr>\n",
       "</table>\n",
       "[3 rows x 5 columns]<br/>\n",
       "</div>"
      ],
      "text/plain": [
       "Columns:\n",
       "\tname\tstr\n",
       "\tindex\tstr\n",
       "\tclass\tint\n",
       "\tvalue\tfloat\n",
       "\tstderr\tfloat\n",
       "\n",
       "Rows: 3\n",
       "\n",
       "Data:\n",
       "+-------------+-------+-------+---------------------+--------------------+\n",
       "|     name    | index | class |        value        |       stderr       |\n",
       "+-------------+-------+-------+---------------------+--------------------+\n",
       "| (intercept) |  None |   1   | -3.4393448660855945 | 2.1617791681914915 |\n",
       "|     mwah    |  None |   1   |  0.8583548521396857 | 0.6016521323138562 |\n",
       "|    tjilp    |  None |   1   |  0.7325844438149645 | 0.5825268669260164 |\n",
       "+-------------+-------+-------+---------------------+--------------------+\n",
       "[3 rows x 5 columns]"
      ]
     },
     "execution_count": 26,
     "metadata": {},
     "output_type": "execute_result"
    }
   ],
   "source": [
    "perceptron.coefficients"
   ]
  },
  {
   "cell_type": "code",
   "execution_count": 27,
   "metadata": {},
   "outputs": [
    {
     "data": {
      "text/plain": [
       "dtype: int\n",
       "Rows: 1\n",
       "[1]"
      ]
     },
     "execution_count": 27,
     "metadata": {},
     "output_type": "execute_result"
    }
   ],
   "source": [
    "new_sentence = tc.SFrame({'tjilp':[3], 'mwah':[3]})\n",
    "perceptron.predict(new_sentence)"
   ]
  },
  {
   "cell_type": "code",
   "execution_count": 28,
   "metadata": {},
   "outputs": [
    {
     "data": {
      "text/plain": [
       "0.8583548521396857"
      ]
     },
     "execution_count": 28,
     "metadata": {},
     "output_type": "execute_result"
    }
   ],
   "source": [
    "perceptron.coefficients[1]['value']"
   ]
  },
  {
   "cell_type": "code",
   "execution_count": 29,
   "metadata": {},
   "outputs": [
    {
     "data": {
      "image/png": "[encoded data removed]",
      "text/plain": [
       "<Figure size 800x600 with 1 Axes>"
      ]
     },
     "metadata": {},
     "output_type": "display_data"
    }
   ],
   "source": [
    "tc_weights = np.array([perceptron.coefficients[2]['value'],perceptron.coefficients[1]['value']])\n",
    "tc_bias = perceptron.coefficients[0]['value']\n",
    "tc_x_2_4 = calculate_x2(4, tc_weights, tc_bias)\n",
    "tc_x_2_0 = calculate_x2(0, tc_weights, tc_bias)\n",
    "plot_sentiment(happy_sentence, sad_sentence, [[0, 4],[tc_x_2_0, tc_x_2_4]])"
   ]
  },
  {
   "cell_type": "code",
   "execution_count": null,
   "metadata": {},
   "outputs": [],
   "source": []
  }
 ],
 "metadata": {
  "kernelspec": {
   "display_name": "Python 3 (Data Science)",
   "language": "python",
   "name": "python3__SAGEMAKER_INTERNAL__arn:aws:sagemaker:eu-west-1:470317259841:image/datascience-1.0"
  },
  "language_info": {
   "codemirror_mode": {
    "name": "ipython",
    "version": 3
   },
   "file_extension": ".py",
   "mimetype": "text/x-python",
   "name": "python",
   "nbconvert_exporter": "python",
   "pygments_lexer": "ipython3",
   "version": "3.7.10"
  }
 },
 "nbformat": 4,
 "nbformat_minor": 4
}
