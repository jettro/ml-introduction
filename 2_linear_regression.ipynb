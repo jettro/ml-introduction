{
 "cells": [
  {
   "cell_type": "markdown",
   "metadata": {},
   "source": [
    "This Notebook is showing what you can do with simple linear regression techniques. The data is obtained from a website called koopwoningen using a basic parser.\n",
    "\n",
    "# Exploring the data and finding linear relationships"
   ]
  },
  {
   "cell_type": "code",
   "metadata": {},
   "source": [
    "import pandas as pd\n",
    "import matplotlib.pyplot as plt\n",
    "import matplotlib.ticker as ticker\n",
    "import seaborn as sns\n",
    "import numpy as np\n",
    "from scipy import stats"
   ],
   "outputs": [],
   "execution_count": null
  },
  {
   "cell_type": "markdown",
   "metadata": {},
   "source": [
    "Read the data from the file, the first row of the file contains the headers.\n",
    "\n",
    "*Note to self* If the first line contains a space after a comma, the name of the header also contains the space"
   ]
  },
  {
   "metadata": {},
   "cell_type": "code",
   "source": [
    "# Load your housing data into a Pandas DataFrame\n",
    "data = pd.read_csv('2_all_houses.txt')\n",
    "data = data[data[\"Price\"] > 0]"
   ],
   "outputs": [],
   "execution_count": null
  },
  {
   "metadata": {},
   "cell_type": "code",
   "source": "data.head()",
   "outputs": [],
   "execution_count": null
  },
  {
   "cell_type": "code",
   "metadata": {},
   "source": [
    "# Display a summary of the dataset\n",
    "print(data.describe())"
   ],
   "outputs": [],
   "execution_count": null
  },
  {
   "cell_type": "markdown",
   "metadata": {},
   "source": [
    "## Exploring tha data\n",
    "We have to get to know the data, maybe do some data cleaning. Remove very expensive houses, and house with to many rooms. Also remove the houses without a price, as they do not contribute anything. Before we do that, we plot the data to learn from it."
   ]
  },
  {
   "metadata": {},
   "cell_type": "code",
   "source": [
    "def plot_histograms(_data):\n",
    "    # 1. Plotting Histograms to see distribution of numerical features\n",
    "    plt.figure(figsize=(16, 5))\n",
    "    \n",
    "    # Histogram for NumberOfRooms\n",
    "    plt.subplot(1, 3, 1)\n",
    "    sns.histplot(_data['NumberOfRooms'], kde=True, bins=20)\n",
    "    plt.title('Distribution of Number Of Rooms')\n",
    "    \n",
    "    # Histogram for SquareFootage\n",
    "    plt.subplot(1, 3, 2)\n",
    "    sns.histplot(_data['SquareFootage'], kde=True, bins=20)\n",
    "    plt.title('Distribution of Square Footage')\n",
    "    \n",
    "    # Histogram for YearBuilt\n",
    "    plt.subplot(1, 3, 3)\n",
    "    sns.histplot(_data['YearBuilt'], kde=True, bins=20)\n",
    "    plt.title('Distribution of Year Built')\n",
    "    \n",
    "    plt.tight_layout()\n",
    "    plt.show()\n",
    "\n",
    "plot_histograms(data)"
   ],
   "outputs": [],
   "execution_count": null
  },
  {
   "metadata": {},
   "cell_type": "markdown",
   "source": [
    "### Observations\n",
    "- The distribution of the 'NumberOfRooms' and 'SquareFootage' features are skewed to the right.\n",
    "- The 'YearBuilt' feature is more uniformly distributed.\n",
    "- There are some outliers in the 'NumberOfRooms' and 'SquareFootage' features.\n",
    "\n",
    "### Cleaning steps\n",
    "- Remove the outliers from the 'NumberOfRooms' and 'SquareFootage' features.\n",
    "- Create ranges for the 'YearBuilt' feature to group the years into categories."
   ]
  },
  {
   "metadata": {},
   "cell_type": "code",
   "source": [
    "# A good rule of thumb is to use 3 standard deviations from the mean\n",
    "clean_data = data.copy()\n",
    "clean_data = clean_data[(np.abs(stats.zscore(clean_data[\"SquareFootage\"])) < 3)]\n",
    "\n",
    "# Houses with more than 8 rooms are considered outliers\n",
    "clean_data = clean_data[clean_data[\"NumberOfRooms\"] < 9]\n",
    "\n",
    "# Change the YearBuilt feature to a categorical feature pre-1950, 1950-2000, post-2000\n",
    "clean_data['YearBuilt'] = pd.cut(clean_data['YearBuilt'], bins=[0, 1950, 1980, 2000, 2024], labels=['pre-1950', '1950-1980', '1980-2000', 'post-2000'])\n",
    "\n",
    "plot_histograms(clean_data)"
   ],
   "outputs": [],
   "execution_count": null
  },
  {
   "metadata": {},
   "cell_type": "code",
   "source": [
    "# 2. Plotting Boxplots to visualize outliers\n",
    "plt.figure(figsize=(16, 5))\n",
    "\n",
    "# Boxplot for NumberOfRooms\n",
    "plt.subplot(1, 2, 1)\n",
    "sns.boxplot(x=clean_data['NumberOfRooms'])\n",
    "plt.title('Boxplot of Number Of Rooms')\n",
    "\n",
    "# Boxplot for SquareFootage\n",
    "plt.subplot(1, 2, 2)\n",
    "sns.boxplot(x=clean_data['SquareFootage'])\n",
    "plt.title('Boxplot of Square Footage')\n",
    "\n",
    "plt.tight_layout()\n",
    "plt.show()\n"
   ],
   "outputs": [],
   "execution_count": null
  },
  {
   "metadata": {},
   "cell_type": "code",
   "source": [
    "# 3. Scatterplot to check for relationships (NumberOfRooms vs SquareFootage)\n",
    "plt.figure(figsize=(8, 6))\n",
    "sns.scatterplot(x='NumberOfRooms', y='SquareFootage', data=clean_data)\n",
    "plt.title('Number of Rooms vs. Square Footage')\n",
    "plt.show()\n"
   ],
   "outputs": [],
   "execution_count": null
  },
  {
   "cell_type": "code",
   "metadata": {},
   "source": [
    "plt.figure(figsize=(16,6))\n",
    "\n",
    "plt.subplot(1,2,1)\n",
    "sns.scatterplot(x='NumberOfRooms', y='Price', data=clean_data)\n",
    "plt.title('Number of Rooms vs. Price')\n",
    "\n",
    "plt.subplot(1,2,2)\n",
    "sns.scatterplot(x='SquareFootage', y='Price', data=clean_data)\n",
    "plt.title('Square Footage vs. Price')\n",
    "\n",
    "plt.tight_layout()\n",
    "plt.show()"
   ],
   "outputs": [],
   "execution_count": null
  },
  {
   "metadata": {},
   "cell_type": "markdown",
   "source": [
    "## Linear Regression\n",
    "Next we will use linear regression to predict the price of a house based on the number of rooms and the square footage. We will use the cleaned data for this.\n",
    "\n",
    "We use two metrics to evaluate the models:\n",
    "- Mean Absolute Error (MAE): The average of the absolute differences between predictions and actual values. (lower is better)\n",
    "- R-squared: The proportion of the variance in the dependent variable that is predictable from the independent variables. (closer to 1 is better)"
   ]
  },
  {
   "metadata": {},
   "cell_type": "code",
   "source": [
    "from sklearn.model_selection import train_test_split\n",
    "from sklearn.preprocessing import StandardScaler, OneHotEncoder\n",
    "from sklearn.compose import ColumnTransformer\n",
    "from sklearn.pipeline import Pipeline\n",
    "from sklearn.ensemble import RandomForestRegressor\n",
    "from sklearn.metrics import mean_squared_error, r2_score, mean_absolute_error\n",
    "import seaborn as sns\n",
    "import matplotlib.pyplot as plt\n"
   ],
   "outputs": [],
   "execution_count": null
  },
  {
   "metadata": {},
   "cell_type": "code",
   "source": [
    "# Select the features and target variable\n",
    "X = clean_data[['NumberOfRooms', 'SquareFootage', 'YearBuilt', 'Type']]\n",
    "y = clean_data['Price']\n",
    "\n",
    "# Split data into training and testing sets\n",
    "X_train, X_test, y_train, y_test = train_test_split(X, y, test_size=0.2, random_state=42)\n",
    "\n",
    "# Define the preprocessing steps\n",
    "preprocessor = ColumnTransformer(\n",
    "    transformers=[\n",
    "        ('num', StandardScaler(), ['NumberOfRooms', 'SquareFootage']),\n",
    "        ('cat', OneHotEncoder(), ['Type', 'YearBuilt'])\n",
    "    ])\n",
    "\n",
    "# Create a pipeline with preprocessing and model\n",
    "pipeline = Pipeline(steps=[('preprocessor', preprocessor),\n",
    "                           ('model', RandomForestRegressor())])\n",
    "\n",
    "# Train the model\n",
    "pipeline.fit(X_train, y_train)\n",
    "\n",
    "# Make predictions on the test set\n",
    "y_pred = pipeline.predict(X_test)\n",
    "\n",
    "# Evaluate the model\n",
    "mae = mean_absolute_error(y_test, y_pred)\n",
    "r2 = r2_score(y_test, y_pred)\n",
    "\n",
    "print(f\"Mean Absolute Error: {mae:.0f}\")\n",
    "print(f\"R-squared: {r2:.2f}\")\n",
    "\n",
    "# Plot actual vs predicted values using Seaborn\n",
    "plt.figure(figsize=(10, 6))\n",
    "sns.scatterplot(x=y_test, y=y_pred)\n",
    "plt.xlabel(\"Actual Prices\")\n",
    "plt.ylabel(\"Predicted Prices\")\n",
    "plt.title(\"Actual vs Predicted Housing Prices\")\n",
    "\n",
    "# Plot the perfect line\n",
    "max_val = max(np.max(y_test), np.max(y_pred))\n",
    "plt.plot([0, max_val], [0, max_val], color='green', linestyle='--')\n",
    "\n",
    "plt.show()"
   ],
   "outputs": [],
   "execution_count": null
  },
  {
   "metadata": {},
   "cell_type": "markdown",
   "source": [
    "## Introducing Polynomial Regression\n",
    "Polynomial regression is a form of regression analysis in which the relationship between the independent variable x and the dependent variable y is modelled as an nth degree polynomial in x. It is used when the relationship between the independent variable and the dependent variable is curvilinear."
   ]
  },
  {
   "metadata": {},
   "cell_type": "code",
   "source": [
    "import numpy as np\n",
    "import matplotlib.pyplot as plt\n",
    "import pandas as pd\n",
    "from sklearn.preprocessing import PolynomialFeatures, StandardScaler\n",
    "from sklearn.linear_model import LinearRegression\n",
    "from sklearn.pipeline import Pipeline\n",
    "from sklearn.metrics import mean_absolute_error, r2_score\n",
    "\n",
    "# Use only SquareFootage as the input feature and Price as the target\n",
    "X_train_sqft = X_train[['SquareFootage']]\n",
    "X_test_sqft = X_test[['SquareFootage']]\n",
    "y_train_log = np.log(y_train)  # Log-transform the target variable\n",
    "\n",
    "# Define a pipeline for polynomial regression\n",
    "poly_pipeline = Pipeline([\n",
    "    ('poly_features', PolynomialFeatures(degree=3, include_bias=False)),\n",
    "    ('scaler', StandardScaler()),\n",
    "    ('model', LinearRegression())\n",
    "])\n",
    "\n",
    "# Fit the model to the square footage data\n",
    "poly_pipeline.fit(X_train_sqft, y_train_log)\n",
    "\n",
    "# Make predictions on the test set\n",
    "y_pred_log = poly_pipeline.predict(X_test_sqft)\n",
    "y_pred = np.exp(y_pred_log)  # Convert back from log scale\n",
    "\n",
    "# Evaluate the model\n",
    "mae = mean_absolute_error(y_test, y_pred)\n",
    "r2 = r2_score(y_test, y_pred)\n",
    "\n",
    "print(f\"Mean Absolute Error: {mae:.2f}\")\n",
    "print(f\"R-squared: {r2:.2f}\")\n",
    "\n",
    "# Create a DataFrame for the range of square footage values\n",
    "X_range = pd.DataFrame(np.linspace(X_test_sqft.min().iloc[0], X_test_sqft.max().iloc[0], 500), columns=['SquareFootage'])\n",
    "y_range_log = poly_pipeline.predict(X_range)\n",
    "y_range = np.exp(y_range_log)  # Convert back from log scale\n",
    "\n",
    "# Plot actual data points\n",
    "plt.figure(figsize=(10, 6))\n",
    "plt.scatter(X_test_sqft, y_test, label=\"Actual Data\", alpha=0.5)\n",
    "\n",
    "# Plot the polynomial regression curve\n",
    "plt.plot(X_range, y_range, color=\"red\", linewidth=2, label=\"Polynomial Model (Degree 3)\")\n",
    "\n",
    "# Labels and title\n",
    "plt.xlabel(\"Square Footage\")\n",
    "plt.ylabel(\"Price\")\n",
    "plt.title(\"Price vs. Square Footage with Polynomial Regression\")\n",
    "plt.legend()\n",
    "plt.show()\n",
    "\n",
    "# Plot actual vs predicted values using Seaborn\n",
    "plt.figure(figsize=(10, 6))\n",
    "sns.scatterplot(x=y_test, y=y_pred)\n",
    "plt.xlabel(\"Actual Prices\")\n",
    "plt.ylabel(\"Predicted Prices\")\n",
    "plt.title(\"Actual vs Predicted Housing Prices\")\n",
    "\n",
    "# Plot the perfect line\n",
    "max_val = max(np.max(y_test), np.max(y_pred))\n",
    "plt.plot([0, max_val], [0, max_val], color='green', linestyle='--')\n",
    "\n",
    "plt.show()"
   ],
   "outputs": [],
   "execution_count": null
  },
  {
   "metadata": {},
   "cell_type": "code",
   "source": "",
   "outputs": [],
   "execution_count": null
  }
 ],
 "metadata": {
  "instance_type": "ml.t3.medium",
  "kernelspec": {
   "display_name": "Python 3 (ipykernel)",
   "language": "python",
   "name": "python3"
  },
  "language_info": {
   "codemirror_mode": {
    "name": "ipython",
    "version": 3
   },
   "file_extension": ".py",
   "mimetype": "text/x-python",
   "name": "python",
   "nbconvert_exporter": "python",
   "pygments_lexer": "ipython3",
   "version": "3.7.10"
  }
 },
 "nbformat": 4,
 "nbformat_minor": 4
}
