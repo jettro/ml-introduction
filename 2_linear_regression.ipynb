{
 "cells": [
  {
   "cell_type": "markdown",
   "metadata": {},
   "source": [
    "This Notebook is showing what you can do with simple linear regression techniques. The data is obtained from a website called koopwoningen using a basic parser.\n",
    "\n",
    "# Exploring the data and finding linear relationships"
   ]
  },
  {
   "cell_type": "code",
   "metadata": {},
   "source": [
    "import pandas as pd\n",
    "import matplotlib.pyplot as plt\n",
    "import matplotlib.ticker as ticker\n",
    "import seaborn as sns\n",
    "import numpy as np\n",
    "from scipy import stats"
   ],
   "outputs": [],
   "execution_count": null
  },
  {
   "cell_type": "markdown",
   "metadata": {},
   "source": [
    "Read the data from the file, the first row of the file contains the headers.\n",
    "\n",
    "*Note to self* If the first line contains a space after a comma, the name of the header also contains the space"
   ]
  },
  {
   "cell_type": "code",
   "metadata": {},
   "source": [
    "# Load your housing data into a Pandas DataFrame\n",
    "data = pd.read_csv('2_all_houses.txt')\n",
    "data = data[data[\"Price\"] > 0]"
   ],
   "outputs": [],
   "execution_count": null
  },
  {
   "cell_type": "code",
   "metadata": {},
   "source": [
    "# Display a summary of the dataset\n",
    "print(data.describe())"
   ],
   "outputs": [],
   "execution_count": null
  },
  {
   "cell_type": "markdown",
   "metadata": {},
   "source": [
    "## Exploring tha data\n",
    "We have to get to know the data, maybe do some data cleaning. Remove very expensive houses, and house with to many rooms. Also remove the houses without a price, as they do not contribute anything. Before we do that, we plot the data to learn from it."
   ]
  },
  {
   "metadata": {},
   "cell_type": "code",
   "source": [
    "def plot_histograms(_data):\n",
    "    # 1. Plotting Histograms to see distribution of numerical features\n",
    "    plt.figure(figsize=(16, 5))\n",
    "    \n",
    "    # Histogram for NumberOfRooms\n",
    "    plt.subplot(1, 3, 1)\n",
    "    sns.histplot(_data['NumberOfRooms'], kde=True, bins=20)\n",
    "    plt.title('Distribution of Number Of Rooms')\n",
    "    \n",
    "    # Histogram for SquareFootage\n",
    "    plt.subplot(1, 3, 2)\n",
    "    sns.histplot(_data['SquareFootage'], kde=True, bins=20)\n",
    "    plt.title('Distribution of Square Footage')\n",
    "    \n",
    "    # Histogram for YearBuilt\n",
    "    plt.subplot(1, 3, 3)\n",
    "    sns.histplot(_data['YearBuilt'], kde=True, bins=20)\n",
    "    plt.title('Distribution of Year Built')\n",
    "    \n",
    "    plt.tight_layout()\n",
    "    plt.show()\n",
    "\n",
    "plot_histograms(data)"
   ],
   "outputs": [],
   "execution_count": null
  },
  {
   "metadata": {},
   "cell_type": "markdown",
   "source": [
    "### Observations\n",
    "- The distribution of the 'NumberOfRooms' and 'SquareFootage' features are skewed to the right.\n",
    "- The 'YearBuilt' feature is more uniformly distributed.\n",
    "- There are some outliers in the 'NumberOfRooms' and 'SquareFootage' features.\n",
    "\n",
    "### Cleaning steps\n",
    "- Remove the outliers from the 'NumberOfRooms' and 'SquareFootage' features.\n",
    "- Create ranges for the 'YearBuilt' feature to group the years into categories."
   ]
  },
  {
   "metadata": {},
   "cell_type": "code",
   "source": [
    "# A good rule of thumb is to use 3 standard deviations from the mean\n",
    "clean_data = data.copy()\n",
    "clean_data = clean_data[(np.abs(stats.zscore(clean_data[\"SquareFootage\"])) < 3)]\n",
    "\n",
    "# Houses with more than 8 rooms are considered outliers\n",
    "clean_data = clean_data[clean_data[\"NumberOfRooms\"] < 9]\n",
    "\n",
    "# Change the YearBuilt feature to a categorical feature pre-1950, 1950-2000, post-2000\n",
    "clean_data['YearBuilt'] = pd.cut(clean_data['YearBuilt'], bins=[0, 1950, 1980, 2000, 2024], labels=['pre-1950', '1950-1980', '1980-2000', 'post-2000'])\n",
    "\n",
    "plot_histograms(clean_data)"
   ],
   "outputs": [],
   "execution_count": null
  },
  {
   "metadata": {},
   "cell_type": "code",
   "source": [
    "# 2. Plotting Boxplots to visualize outliers\n",
    "plt.figure(figsize=(16, 5))\n",
    "\n",
    "# Boxplot for NumberOfRooms\n",
    "plt.subplot(1, 2, 1)\n",
    "sns.boxplot(x=clean_data['NumberOfRooms'])\n",
    "plt.title('Boxplot of Number Of Rooms')\n",
    "\n",
    "# Boxplot for SquareFootage\n",
    "plt.subplot(1, 2, 2)\n",
    "sns.boxplot(x=clean_data['SquareFootage'])\n",
    "plt.title('Boxplot of Square Footage')\n",
    "\n",
    "plt.tight_layout()\n",
    "plt.show()\n"
   ],
   "outputs": [],
   "execution_count": null
  },
  {
   "metadata": {},
   "cell_type": "code",
   "source": [
    "# 3. Scatterplot to check for relationships (NumberOfRooms vs SquareFootage)\n",
    "plt.figure(figsize=(8, 6))\n",
    "sns.scatterplot(x='NumberOfRooms', y='SquareFootage', data=clean_data)\n",
    "plt.title('Number of Rooms vs. Square Footage')\n",
    "plt.show()\n"
   ],
   "outputs": [],
   "execution_count": null
  },
  {
   "cell_type": "code",
   "metadata": {},
   "source": [
    "plt.figure(figsize=(16,6))\n",
    "\n",
    "plt.subplot(1,2,1)\n",
    "sns.scatterplot(x='NumberOfRooms', y='Price', data=clean_data)\n",
    "plt.title('Number of Rooms vs. Price')\n",
    "\n",
    "plt.subplot(1,2,2)\n",
    "sns.scatterplot(x='SquareFootage', y='Price', data=clean_data)\n",
    "plt.title('Square Footage vs. Price')\n",
    "\n",
    "plt.tight_layout()\n",
    "plt.show()"
   ],
   "outputs": [],
   "execution_count": null
  },
  {
   "metadata": {},
   "cell_type": "markdown",
   "source": [
    "## Linear Regression\n",
    "Next we will use linear regression to predict the price of a house based on the number of rooms and the square footage. We will use the cleaned data for this."
   ]
  },
  {
   "metadata": {},
   "cell_type": "code",
   "source": [
    "from sklearn.model_selection import train_test_split\n",
    "from sklearn.preprocessing import StandardScaler, OneHotEncoder\n",
    "from sklearn.compose import ColumnTransformer\n",
    "from sklearn.pipeline import Pipeline\n",
    "from sklearn.ensemble import RandomForestRegressor\n",
    "from sklearn.metrics import mean_squared_error, r2_score\n",
    "import seaborn as sns\n",
    "import matplotlib.pyplot as plt\n"
   ],
   "outputs": [],
   "execution_count": null
  },
  {
   "metadata": {},
   "cell_type": "code",
   "source": [
    "# Select the features and target variable\n",
    "X = clean_data[['NumberOfRooms', 'SquareFootage', 'YearBuilt', 'Type']]\n",
    "y = clean_data['Price']\n",
    "\n",
    "# Split data into training and testing sets\n",
    "X_train, X_test, y_train, y_test = train_test_split(X, y, test_size=0.2, random_state=42)\n",
    "\n",
    "# Define the preprocessing steps\n",
    "preprocessor = ColumnTransformer(\n",
    "    transformers=[\n",
    "        ('num', StandardScaler(), ['NumberOfRooms', 'SquareFootage']),\n",
    "        ('cat', OneHotEncoder(), ['Type', 'YearBuilt'])\n",
    "    ])\n",
    "\n",
    "# Create a pipeline with preprocessing and model\n",
    "pipeline = Pipeline(steps=[('preprocessor', preprocessor),\n",
    "                           ('model', RandomForestRegressor())])\n",
    "\n",
    "# Train the model\n",
    "pipeline.fit(X_train, y_train)\n",
    "\n",
    "# Make predictions on the test set\n",
    "y_pred = pipeline.predict(X_test)\n",
    "\n",
    "# Evaluate the model\n",
    "mse = mean_squared_error(y_test, y_pred)\n",
    "r2 = r2_score(y_test, y_pred)\n",
    "\n",
    "print(f\"Mean Squared Error: {mse}\")\n",
    "print(f\"R-squared: {r2}\")\n",
    "\n",
    "# Plot actual vs predicted values using Seaborn\n",
    "plt.figure(figsize=(10, 6))\n",
    "sns.scatterplot(x=y_test, y=y_pred)\n",
    "plt.xlabel(\"Actual Prices\")\n",
    "plt.ylabel(\"Predicted Prices\")\n",
    "plt.title(\"Actual vs Predicted Housing Prices\")\n",
    "\n",
    "# Plot the perfect line\n",
    "max_val = max(np.max(y_test), np.max(y_pred))\n",
    "plt.plot([0, max_val], [0, max_val], color='green', linestyle='--')\n",
    "\n",
    "plt.show()"
   ],
   "outputs": [],
   "execution_count": null
  },
  {
   "metadata": {},
   "cell_type": "code",
   "source": [
    "from sklearn.preprocessing import PolynomialFeatures\n",
    "from sklearn.ensemble import GradientBoostingRegressor\n",
    "from sklearn.pipeline import Pipeline\n",
    "from sklearn.metrics import mean_squared_error, r2_score\n",
    "\n",
    "# Define polynomial transformation (degree=2 for quadratic terms)\n",
    "poly = PolynomialFeatures(degree=4, include_bias=False)\n",
    "\n",
    "# Update the preprocessor to include PolynomialFeatures\n",
    "preprocessor_with_poly = ColumnTransformer(\n",
    "    transformers=[\n",
    "        ('num', Pipeline(steps=[('scaler', StandardScaler()), ('poly', poly)]), ['NumberOfRooms', 'SquareFootage']),\n",
    "        ('cat', OneHotEncoder(), ['Type', 'YearBuilt'])\n",
    "    ])\n",
    "\n",
    "# Create a new pipeline with the updated preprocessor and model\n",
    "pipeline_with_poly = Pipeline(steps=[('preprocessor', preprocessor_with_poly),\n",
    "                                     ('model', GradientBoostingRegressor())])\n",
    "\n",
    "# Apply log transformation to the Price\n",
    "y_train_log = np.log(y_train)\n",
    "y_test_log = np.log(y_test)\n",
    "\n",
    "# Train the model using polynomial features\n",
    "pipeline_with_poly.fit(X_train, y_train_log)\n",
    "\n",
    "# Make predictions on the test set\n",
    "y_pred_log = pipeline_with_poly.predict(X_test)\n",
    "\n",
    "# Reverse the log transformation to get predictions in the original scale\n",
    "y_pred = np.exp(y_pred_log)\n",
    "\n",
    "# Evaluate the model\n",
    "mse = mean_squared_error(y_test, y_pred)\n",
    "r2 = r2_score(y_test, y_pred)\n",
    "\n",
    "print(f\"Mean Squared Error: {mse}\")\n",
    "print(f\"R-squared: {r2}\")\n",
    "\n",
    "# Plot actual vs predicted values using Seaborn\n",
    "plt.figure(figsize=(10, 6))\n",
    "sns.scatterplot(x=y_test, y=y_pred)\n",
    "plt.xlabel(\"Actual Prices\")\n",
    "plt.ylabel(\"Predicted Prices\")\n",
    "plt.title(\"Actual vs Predicted Housing Prices\")\n",
    "\n",
    "# Plot the perfect line\n",
    "max_val = max(np.max(y_test), np.max(y_pred))\n",
    "plt.plot([0, max_val], [0, max_val], color='green', linestyle='--')\n",
    "\n",
    "plt.show()"
   ],
   "outputs": [],
   "execution_count": null
  },
  {
   "metadata": {},
   "cell_type": "code",
   "source": "",
   "outputs": [],
   "execution_count": null
  }
 ],
 "metadata": {
  "instance_type": "ml.t3.medium",
  "kernelspec": {
   "display_name": "Python 3 (ipykernel)",
   "language": "python",
   "name": "python3"
  },
  "language_info": {
   "codemirror_mode": {
    "name": "ipython",
    "version": 3
   },
   "file_extension": ".py",
   "mimetype": "text/x-python",
   "name": "python",
   "nbconvert_exporter": "python",
   "pygments_lexer": "ipython3",
   "version": "3.7.10"
  }
 },
 "nbformat": 4,
 "nbformat_minor": 4
}
