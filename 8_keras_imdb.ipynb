{
 "cells": [
  {
   "cell_type": "code",
   "execution_count": 1,
   "metadata": {},
   "outputs": [],
   "source": [
    "from tensorflow.keras.datasets import imdb\n",
    "from tensorflow import keras\n",
    "from tensorflow.keras import layers\n",
    "from tensorflow import keras\n",
    "from tensorflow.keras import layers\n",
    "\n",
    "import numpy as np\n",
    "import matplotlib.pyplot as plt"
   ]
  },
  {
   "cell_type": "code",
   "execution_count": 2,
   "metadata": {},
   "outputs": [],
   "source": [
    "(train_data, train_labels), (test_data, test_labels) = imdb.load_data(num_words=1000)"
   ]
  },
  {
   "cell_type": "markdown",
   "metadata": {},
   "source": [
    "Notice how the training and test data is separated and how the data and the labels are separate from each other as well. Beware, this data set contains integers representing words. With the function below we can reverse using the index. Beware that we only took the top 10000 words. So some words cannot be reversed. These will be marked with a '?'"
   ]
  },
  {
   "cell_type": "code",
   "execution_count": 3,
   "metadata": {},
   "outputs": [],
   "source": [
    "word_index = imdb.get_word_index()\n",
    "reverse_word_index = dict([(value, key) for (key, value) in word_index.items()])\n",
    "decoded_review = \" \".join([reverse_word_index.get(i - 3, \"?\") for i in train_data[10]])"
   ]
  },
  {
   "cell_type": "code",
   "execution_count": 4,
   "metadata": {},
   "outputs": [
    {
     "name": "stdout",
     "output_type": "stream",
     "text": [
      "? french horror cinema has seen something of a ? over the last couple of years with great films such as ? and ? romance ? on to the scene ? ? the ? just ? but ? head and ? over most modern horror ? and is ? one of the best french horror films ever made ? was obviously shot on a low budget but this is made up for in far more ways than one by the ? of the film and this in turn is ? by the excellent writing and acting that ? the film is a ? the plot ? on two main ? ? and black ? the ? character is a man named ? ? to ? for ? he is put in a ? with three others the ? ? ? body ? ? ? and his ? ? ? after a short while in the ? together they ? upon a ? place in the ? that ? an old ? after ? part of it they soon ? its ? ? and ? they may be able to use it to break through the ? ? br br black ? is a very interesting ? and i'm actually quite surprised that there aren't more films based on it as there's so much ? for things to do with it it's ? to say that ? makes the best of it's ? as despite it's ? the film never actually feels ? and ? to ? well throughout director ? ? ? a great atmosphere for the film the fact that most of it takes place ? the ? ? ? ? that the film feels very ? and this ? ? the ? idea of the ? ? to use ? to break out of the ? it's very easy to get behind them it's often said that the ? is the thing that really ? people and this film ? that as the director ? that we can never really be sure of exactly what is ? the ? and this ? to ? that ? actually does ? to be quite ? the film is memorable for a lot of ? ? the ? plot the characters are all very interesting in their own way and the fact that the book itself almost takes on its own character is very well done anyone ? that the film won't ? by the end won't be disappointed either as the ending both makes sense and ? to be quite ? overall ? is a truly great horror film and one of the best of the ? highly ? viewing\n"
     ]
    }
   ],
   "source": [
    "print(decoded_review)"
   ]
  },
  {
   "cell_type": "code",
   "execution_count": 5,
   "metadata": {},
   "outputs": [],
   "source": [
    "def vectorize_sequences(sequences, dimension=1000):\n",
    "    results = np.zeros((len(sequences), dimension))\n",
    "    for i, sequence in enumerate(sequences):\n",
    "         results[i, sequence] = 1.\n",
    "    return results"
   ]
  },
  {
   "cell_type": "code",
   "execution_count": 6,
   "metadata": {},
   "outputs": [],
   "source": [
    "x_train = vectorize_sequences(train_data)"
   ]
  },
  {
   "cell_type": "code",
   "execution_count": 7,
   "metadata": {},
   "outputs": [],
   "source": [
    "x_test = vectorize_sequences(test_data)"
   ]
  },
  {
   "cell_type": "code",
   "execution_count": 8,
   "metadata": {},
   "outputs": [],
   "source": [
    "y_train = np.asarray(train_labels).astype(\"float32\")\n",
    "y_test = np.asarray(test_labels).astype(\"float32\")"
   ]
  },
  {
   "cell_type": "code",
   "execution_count": 9,
   "metadata": {},
   "outputs": [],
   "source": [
    "model = keras.Sequential([\n",
    "    layers.Dense(16, activation=\"relu\"),\n",
    "    layers.Dense(16, activation=\"relu\"),\n",
    "    layers.Dense(1, activation=\"sigmoid\")\n",
    "])"
   ]
  },
  {
   "cell_type": "code",
   "execution_count": 10,
   "metadata": {},
   "outputs": [],
   "source": [
    "model.compile(optimizer=\"rmsprop\",\n",
    "              loss=\"binary_crossentropy\",\n",
    "              metrics=[\"accuracy\"])"
   ]
  },
  {
   "cell_type": "code",
   "execution_count": 11,
   "metadata": {},
   "outputs": [],
   "source": [
    "x_val = x_train[:10000]\n",
    "partial_x_train = x_train[10000:]\n",
    "y_val = y_train[:10000]\n",
    "partial_y_train = y_train[10000:]"
   ]
  },
  {
   "cell_type": "code",
   "execution_count": 12,
   "metadata": {},
   "outputs": [
    {
     "name": "stdout",
     "output_type": "stream",
     "text": [
      "Train on 15000 samples, validate on 10000 samples\n",
      "Epoch 1/20\n",
      "15000/15000 [==============================] - 1s 88us/sample - loss: 0.5936 - accuracy: 0.6935 - val_loss: 0.4851 - val_accuracy: 0.7905\n",
      "Epoch 2/20\n",
      "15000/15000 [==============================] - 0s 17us/sample - loss: 0.4258 - accuracy: 0.8267 - val_loss: 0.4471 - val_accuracy: 0.7961\n",
      "Epoch 3/20\n",
      "15000/15000 [==============================] - 0s 16us/sample - loss: 0.3641 - accuracy: 0.8523 - val_loss: 0.3572 - val_accuracy: 0.8502\n",
      "Epoch 4/20\n",
      "15000/15000 [==============================] - 0s 17us/sample - loss: 0.3340 - accuracy: 0.8631 - val_loss: 0.3663 - val_accuracy: 0.8444\n",
      "Epoch 5/20\n",
      "15000/15000 [==============================] - 0s 17us/sample - loss: 0.3195 - accuracy: 0.8712 - val_loss: 0.3355 - val_accuracy: 0.8595\n",
      "Epoch 6/20\n",
      "15000/15000 [==============================] - 0s 16us/sample - loss: 0.3048 - accuracy: 0.8767 - val_loss: 0.3372 - val_accuracy: 0.8600\n",
      "Epoch 7/20\n",
      "15000/15000 [==============================] - 0s 16us/sample - loss: 0.2982 - accuracy: 0.8778 - val_loss: 0.3360 - val_accuracy: 0.8607\n",
      "Epoch 8/20\n",
      "15000/15000 [==============================] - 0s 15us/sample - loss: 0.2944 - accuracy: 0.8795 - val_loss: 0.3351 - val_accuracy: 0.8598\n",
      "Epoch 9/20\n",
      "15000/15000 [==============================] - 0s 16us/sample - loss: 0.2870 - accuracy: 0.8817 - val_loss: 0.3369 - val_accuracy: 0.8595\n",
      "Epoch 10/20\n",
      "15000/15000 [==============================] - 0s 17us/sample - loss: 0.2841 - accuracy: 0.8836 - val_loss: 0.3396 - val_accuracy: 0.8589\n",
      "Epoch 11/20\n",
      "15000/15000 [==============================] - 0s 17us/sample - loss: 0.2784 - accuracy: 0.8855 - val_loss: 0.3412 - val_accuracy: 0.8588\n",
      "Epoch 12/20\n",
      "15000/15000 [==============================] - 0s 16us/sample - loss: 0.2745 - accuracy: 0.8893 - val_loss: 0.3551 - val_accuracy: 0.8542\n",
      "Epoch 13/20\n",
      "15000/15000 [==============================] - 0s 17us/sample - loss: 0.2704 - accuracy: 0.8907 - val_loss: 0.3749 - val_accuracy: 0.8474\n",
      "Epoch 14/20\n",
      "15000/15000 [==============================] - 0s 17us/sample - loss: 0.2665 - accuracy: 0.8941 - val_loss: 0.3609 - val_accuracy: 0.8515\n",
      "Epoch 15/20\n",
      "15000/15000 [==============================] - 0s 17us/sample - loss: 0.2639 - accuracy: 0.8909 - val_loss: 0.3545 - val_accuracy: 0.8549\n",
      "Epoch 16/20\n",
      "15000/15000 [==============================] - 0s 16us/sample - loss: 0.2593 - accuracy: 0.8947 - val_loss: 0.3477 - val_accuracy: 0.8579\n",
      "Epoch 17/20\n",
      "15000/15000 [==============================] - 0s 19us/sample - loss: 0.2533 - accuracy: 0.8975 - val_loss: 0.3582 - val_accuracy: 0.8541\n",
      "Epoch 18/20\n",
      "15000/15000 [==============================] - 0s 16us/sample - loss: 0.2488 - accuracy: 0.9003 - val_loss: 0.3727 - val_accuracy: 0.8469\n",
      "Epoch 19/20\n",
      "15000/15000 [==============================] - 0s 18us/sample - loss: 0.2440 - accuracy: 0.9033 - val_loss: 0.3549 - val_accuracy: 0.8563\n",
      "Epoch 20/20\n",
      "15000/15000 [==============================] - 0s 16us/sample - loss: 0.2407 - accuracy: 0.9038 - val_loss: 0.3568 - val_accuracy: 0.8560\n"
     ]
    }
   ],
   "source": [
    "history = model.fit(partial_x_train,\n",
    "                    partial_y_train,\n",
    "                    epochs=20,\n",
    "                    batch_size=512,\n",
    "                    validation_data=(x_val, y_val))"
   ]
  },
  {
   "cell_type": "code",
   "execution_count": 13,
   "metadata": {},
   "outputs": [
    {
     "data": {
      "text/plain": [
       "dict_keys(['loss', 'accuracy', 'val_loss', 'val_accuracy'])"
      ]
     },
     "execution_count": 13,
     "metadata": {},
     "output_type": "execute_result"
    }
   ],
   "source": [
    "history_dict = history.history\n",
    "history_dict.keys()"
   ]
  },
  {
   "cell_type": "code",
   "execution_count": 14,
   "metadata": {},
   "outputs": [
    {
     "data": {
      "image/png": "[encoded data removed]",
      "text/plain": [
       "<Figure size 432x288 with 1 Axes>"
      ]
     },
     "metadata": {
      "needs_background": "light"
     },
     "output_type": "display_data"
    }
   ],
   "source": [
    "history_dict = history.history\n",
    "loss_values = history_dict[\"loss\"]\n",
    "val_loss_values = history_dict[\"val_loss\"]\n",
    "epochs = range(1, len(loss_values) + 1)\n",
    "plt.plot(epochs, loss_values, \"bo\", label=\"Training loss\")\n",
    "plt.plot(epochs, val_loss_values, \"b\", label=\"Validation loss\")\n",
    "plt.title(\"Training and validation loss\")\n",
    "plt.xlabel(\"Epochs\")\n",
    "plt.ylabel(\"Loss\")\n",
    "plt.legend()\n",
    "plt.show()"
   ]
  },
  {
   "cell_type": "code",
   "execution_count": 15,
   "metadata": {},
   "outputs": [
    {
     "data": {
      "image/png": "[encoded data removed]",
      "text/plain": [
       "<Figure size 432x288 with 1 Axes>"
      ]
     },
     "metadata": {
      "needs_background": "light"
     },
     "output_type": "display_data"
    }
   ],
   "source": [
    "plt.clf()\n",
    "acc = history_dict[\"accuracy\"]\n",
    "val_acc = history_dict[\"val_accuracy\"]\n",
    "plt.plot(epochs, acc, \"bo\", label=\"Training acc\")\n",
    "plt.plot(epochs, val_acc, \"b\", label=\"Validation acc\")\n",
    "plt.title(\"Training and validation accuracy\")\n",
    "plt.xlabel(\"Epochs\")\n",
    "plt.ylabel(\"Accuracy\")\n",
    "plt.legend()\n",
    "plt.show()"
   ]
  },
  {
   "cell_type": "code",
   "execution_count": null,
   "metadata": {},
   "outputs": [],
   "source": []
  }
 ],
 "metadata": {
  "instance_type": "ml.t3.medium",
  "kernelspec": {
   "display_name": "Python 3 (Data Science)",
   "language": "python",
   "name": "python3__SAGEMAKER_INTERNAL__arn:aws:sagemaker:eu-west-1:470317259841:image/datascience-1.0"
  },
  "language_info": {
   "codemirror_mode": {
    "name": "ipython",
    "version": 3
   },
   "file_extension": ".py",
   "mimetype": "text/x-python",
   "name": "python",
   "nbconvert_exporter": "python",
   "pygments_lexer": "ipython3",
   "version": "3.7.10"
  }
 },
 "nbformat": 4,
 "nbformat_minor": 4
}
